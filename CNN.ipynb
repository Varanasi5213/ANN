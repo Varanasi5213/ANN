{
  "nbformat": 4,
  "nbformat_minor": 0,
  "metadata": {
    "kernelspec": {
      "display_name": "Python 3",
      "language": "python",
      "name": "python3"
    },
    "language_info": {
      "codemirror_mode": {
        "name": "ipython",
        "version": 3
      },
      "file_extension": ".py",
      "mimetype": "text/x-python",
      "name": "python",
      "nbconvert_exporter": "python",
      "pygments_lexer": "ipython3",
      "version": "3.7.4"
    },
    "colab": {
      "name": "CNN.ipynb",
      "provenance": [],
      "collapsed_sections": []
    }
  },
  "cells": [
    {
      "cell_type": "code",
      "metadata": {
        "id": "BhjN8tXm7i-v",
        "colab_type": "code",
        "colab": {}
      },
      "source": [
        "import tensorflow as tf\n",
        "\n",
        "from tensorflow.keras.preprocessing.image import ImageDataGenerator"
      ],
      "execution_count": 0,
      "outputs": []
    },
    {
      "cell_type": "code",
      "metadata": {
        "id": "dlE_kYbX7i_G",
        "colab_type": "code",
        "outputId": "892abc04-9c1a-4073-e853-9f1b2a230b25",
        "colab": {}
      },
      "source": [
        "train_datagen = ImageDataGenerator(rescale = 1./255)\n",
        "path = r'C:\\Users\\Bharat\\Documents\\Database\\Digits\\Train'\n",
        "train_generator = train_datagen.flow_from_directory(path, target_size = (200, 300), batch_size = 100, class_mode = 'categorical')\n"
      ],
      "execution_count": 0,
      "outputs": [
        {
          "output_type": "stream",
          "text": [
            "Found 3490 images belonging to 10 classes.\n"
          ],
          "name": "stdout"
        }
      ]
    },
    {
      "cell_type": "code",
      "metadata": {
        "id": "jUniFfXn7i_Y",
        "colab_type": "code",
        "outputId": "49ea8091-4f5e-44e9-865c-cb80834bdb31",
        "colab": {}
      },
      "source": [
        "test_datagen = ImageDataGenerator(rescale = 1./255)\n",
        "path = r'C:\\Users\\500067697\\Documents\\Database\\Digits\\Test'\n",
        "\n",
        "test_generator = test_datagen.flow_from_directory(path, target_size = (200, 300), batch_size = 50, class_mode = 'categorical')"
      ],
      "execution_count": 0,
      "outputs": [
        {
          "output_type": "stream",
          "text": [
            "Found 1500 images belonging to 10 classes.\n"
          ],
          "name": "stdout"
        }
      ]
    },
    {
      "cell_type": "code",
      "metadata": {
        "id": "IeLEpmTg7i_6",
        "colab_type": "code",
        "outputId": "04480d51-ec13-49c7-e5d4-fb83b8ef72f9",
        "colab": {}
      },
      "source": [
        "model = tf.keras.models.Sequential([\n",
        "    tf.keras.layers.Conv2D(16, (3, 3), activation = 'relu', input_shape = (300, 200, 3)),\n",
        "    tf.keras.layers.MaxPooling2D(2, 2),\n",
        "    tf.keras.layers.Conv2D(16, (3, 3), activation = 'relu'),\n",
        "    tf.keras.layers.MaxPooling2D(2, 2),\n",
        "    tf.keras.layers.Conv2D(16, (3, 3), activation = 'relu'),\n",
        "    tf.keras.layers.MaxPooling2D(2, 2),\n",
        "    tf.keras.layers.Flatten(),\n",
        "    tf.keras.layers.Dense(512, activation = 'relu'),\n",
        "    tf.keras.layers.Dense(10, activation = 'softmax')\n",
        "])\n",
        "\n",
        "model.summary()"
      ],
      "execution_count": 0,
      "outputs": [
        {
          "output_type": "stream",
          "text": [
            "Model: \"sequential_8\"\n",
            "_________________________________________________________________\n",
            "Layer (type)                 Output Shape              Param #   \n",
            "=================================================================\n",
            "conv2d_24 (Conv2D)           (None, 298, 198, 16)      448       \n",
            "_________________________________________________________________\n",
            "max_pooling2d_24 (MaxPooling (None, 149, 99, 16)       0         \n",
            "_________________________________________________________________\n",
            "conv2d_25 (Conv2D)           (None, 147, 97, 16)       2320      \n",
            "_________________________________________________________________\n",
            "max_pooling2d_25 (MaxPooling (None, 73, 48, 16)        0         \n",
            "_________________________________________________________________\n",
            "conv2d_26 (Conv2D)           (None, 71, 46, 16)        2320      \n",
            "_________________________________________________________________\n",
            "max_pooling2d_26 (MaxPooling (None, 35, 23, 16)        0         \n",
            "_________________________________________________________________\n",
            "flatten_8 (Flatten)          (None, 12880)             0         \n",
            "_________________________________________________________________\n",
            "dense_16 (Dense)             (None, 512)               6595072   \n",
            "_________________________________________________________________\n",
            "dense_17 (Dense)             (None, 10)                5130      \n",
            "=================================================================\n",
            "Total params: 6,605,290\n",
            "Trainable params: 6,605,290\n",
            "Non-trainable params: 0\n",
            "_________________________________________________________________\n"
          ],
          "name": "stdout"
        }
      ]
    },
    {
      "cell_type": "code",
      "metadata": {
        "id": "1ZREiFi17jAP",
        "colab_type": "code",
        "outputId": "aca88719-d21c-4346-d305-48614ecb40a7",
        "colab": {}
      },
      "source": [
        "from tensorflow.keras.optimizers import RMSprop\n",
        "model.compile(optimizer = RMSprop(lr = 0.001), loss = 'categorical_crossentropy', metrics = ['acc'])\n",
        "model.fit_generator(\n",
        "    train_generator,\n",
        "    steps_per_epoch = 35,\n",
        "    epochs = 3)"
      ],
      "execution_count": 0,
      "outputs": [
        {
          "output_type": "stream",
          "text": [
            "WARNING:tensorflow:sample_weight modes were coerced from\n",
            "  ...\n",
            "    to  \n",
            "  ['...']\n",
            "Train for 35 steps\n",
            "Epoch 1/3\n",
            "35/35 [==============================] - 71s 2s/step - loss: 0.3230 - acc: 0.9570\n",
            "Epoch 2/3\n",
            "35/35 [==============================] - 75s 2s/step - loss: 0.0477 - acc: 0.9834\n",
            "Epoch 3/3\n",
            "35/35 [==============================] - 69s 2s/step - loss: 0.0407 - acc: 0.9857\n"
          ],
          "name": "stdout"
        }
      ]
    },
    {
      "cell_type": "code",
      "metadata": {
        "id": "VMIALHx07jAs",
        "colab_type": "code",
        "outputId": "88fe3977-5fec-4fd5-d7fc-2618bc5855f6",
        "colab": {}
      },
      "source": [
        "test_loss, test_acc = model.evaluate(test_generator)"
      ],
      "execution_count": 0,
      "outputs": [
        {
          "output_type": "stream",
          "text": [
            "WARNING:tensorflow:sample_weight modes were coerced from\n",
            "  ...\n",
            "    to  \n",
            "  ['...']\n",
            "30/30 [==============================] - 9s 297ms/step - loss: 0.4755 - acc: 0.8413\n"
          ],
          "name": "stdout"
        }
      ]
    },
    {
      "cell_type": "code",
      "metadata": {
        "id": "1mD9uWv97jA6",
        "colab_type": "code",
        "outputId": "9a855ef6-b711-4d59-88f9-971a064e43e0",
        "colab": {}
      },
      "source": [
        "print(test_loss, test_acc)"
      ],
      "execution_count": 0,
      "outputs": [
        {
          "output_type": "stream",
          "text": [
            "0.475464953482151 0.8413333\n"
          ],
          "name": "stdout"
        }
      ]
    },
    {
      "cell_type": "code",
      "metadata": {
        "id": "jR4AZCfi7jBP",
        "colab_type": "code",
        "colab": {}
      },
      "source": [
        ""
      ],
      "execution_count": 0,
      "outputs": []
    },
    {
      "cell_type": "code",
      "metadata": {
        "id": "35o_T6Nu7jBc",
        "colab_type": "code",
        "colab": {}
      },
      "source": [
        "# 5 fold cross validation..."
      ],
      "execution_count": 0,
      "outputs": []
    },
    {
      "cell_type": "code",
      "metadata": {
        "id": "2_4Q60RK7jBh",
        "colab_type": "code",
        "colab": {}
      },
      "source": [
        "# roc curve..."
      ],
      "execution_count": 0,
      "outputs": []
    },
    {
      "cell_type": "code",
      "metadata": {
        "id": "CGmmk-3d7jBu",
        "colab_type": "code",
        "colab": {}
      },
      "source": [
        ""
      ],
      "execution_count": 0,
      "outputs": []
    }
  ]
}