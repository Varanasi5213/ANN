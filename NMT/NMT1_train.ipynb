{
  "nbformat": 4,
  "nbformat_minor": 0,
  "metadata": {
    "colab": {
      "name": "NMT.ipynb",
      "provenance": [],
      "collapsed_sections": []
    },
    "kernelspec": {
      "name": "python3",
      "display_name": "Python 3"
    },
    "accelerator": "GPU"
  },
  "cells": [
    {
      "cell_type": "code",
      "metadata": {
        "id": "wplCXgWib9LW",
        "colab": {
          "base_uri": "https://localhost:8080/"
        },
        "outputId": "fd2dedce-d3da-49c9-d7a2-da8a776e7714"
      },
      "source": [
        "from google.colab import drive\r\n",
        "drive.mount('/content/drive/')"
      ],
      "execution_count": 32,
      "outputs": [
        {
          "output_type": "stream",
          "text": [
            "Drive already mounted at /content/drive/; to attempt to forcibly remount, call drive.mount(\"/content/drive/\", force_remount=True).\n"
          ],
          "name": "stdout"
        }
      ]
    },
    {
      "cell_type": "code",
      "metadata": {
        "id": "Psrj8X2OcgM-"
      },
      "source": [
        "import nltk\r\n",
        "import pandas as pd"
      ],
      "execution_count": 33,
      "outputs": []
    },
    {
      "cell_type": "code",
      "metadata": {
        "id": "5XJISE6_1JF3",
        "colab": {
          "base_uri": "https://localhost:8080/"
        },
        "outputId": "93726e26-8d23-48a5-a453-092bd01395a7"
      },
      "source": [
        "nltk.download('punkt')"
      ],
      "execution_count": 34,
      "outputs": [
        {
          "output_type": "stream",
          "text": [
            "[nltk_data] Downloading package punkt to /root/nltk_data...\n",
            "[nltk_data]   Package punkt is already up-to-date!\n"
          ],
          "name": "stdout"
        },
        {
          "output_type": "execute_result",
          "data": {
            "text/plain": [
              "True"
            ]
          },
          "metadata": {
            "tags": []
          },
          "execution_count": 34
        }
      ]
    },
    {
      "cell_type": "code",
      "metadata": {
        "id": "3nPDSjoGf29R",
        "colab": {
          "base_uri": "https://localhost:8080/"
        },
        "outputId": "5685f5d2-ecb3-41c7-f872-5e01ebdb4922"
      },
      "source": [
        "from nltk.tokenize import word_tokenize,sent_tokenize\r\n",
        "filepath = '/content/drive/My Drive/English-Telugu/train.en'\r\n",
        "corpus = open(filepath, 'r').read()\r\n",
        "words = nltk.word_tokenize(corpus)\r\n",
        "print(\"The number of tokens is\", len(words))\r\n",
        "average_tokens = round(len(words)/75000)\r\n",
        "print(\"The average number of tokens per sentence is\",average_tokens)\r\n",
        "unique_tokens = set(words)\r\n",
        "print(\"The number of unique tokens are\", len(unique_tokens))"
      ],
      "execution_count": 35,
      "outputs": [
        {
          "output_type": "stream",
          "text": [
            "The number of tokens is 1809312\n",
            "The average number of tokens per sentence is 24\n",
            "The number of unique tokens are 21095\n"
          ],
          "name": "stdout"
        }
      ]
    },
    {
      "cell_type": "code",
      "metadata": {
        "id": "6UN6dzP0jl4z",
        "colab": {
          "base_uri": "https://localhost:8080/"
        },
        "outputId": "7a904f65-3a7f-4406-ebd9-961d61f6b29b"
      },
      "source": [
        "from nltk.tokenize import word_tokenize,sent_tokenize\r\n",
        "filepath = nltk.data.find('/content/drive/My Drive/English-Telugu/train.te')\r\n",
        "corpus = open(filepath, 'r').read()\r\n",
        "words = nltk.word_tokenize(corpus)\r\n",
        "print(\"The number of tokens is\", len(words))\r\n",
        "average_tokens = round(len(words)/75000)\r\n",
        "print(\"The average number of tokens per sentence is\",average_tokens)\r\n",
        "unique_tokens = set(words)\r\n",
        "print(\"The number of unique tokens are\", len(unique_tokens))"
      ],
      "execution_count": 36,
      "outputs": [
        {
          "output_type": "stream",
          "text": [
            "The number of tokens is 1030924\n",
            "The average number of tokens per sentence is 14\n",
            "The number of unique tokens are 106016\n"
          ],
          "name": "stdout"
        }
      ]
    },
    {
      "cell_type": "code",
      "metadata": {
        "id": "rRJuKtAMedZY",
        "colab": {
          "base_uri": "https://localhost:8080/"
        },
        "outputId": "bad3757a-5228-47e5-d8b2-b4d4c60bab8a"
      },
      "source": [
        "f= open(\"/content/drive/My Drive/English-Telugu/train.en\")\r\n",
        "en=f.readlines()\r\n",
        "len(en)"
      ],
      "execution_count": 37,
      "outputs": [
        {
          "output_type": "execute_result",
          "data": {
            "text/plain": [
              "75000"
            ]
          },
          "metadata": {
            "tags": []
          },
          "execution_count": 37
        }
      ]
    },
    {
      "cell_type": "code",
      "metadata": {
        "id": "G_4fqWkerktZ",
        "colab": {
          "base_uri": "https://localhost:8080/"
        },
        "outputId": "1cfefc20-c230-430f-c5b5-3f4da554a37d"
      },
      "source": [
        "en[:6]"
      ],
      "execution_count": 38,
      "outputs": [
        {
          "output_type": "execute_result",
          "data": {
            "text/plain": [
              "['we just party , and we can do whatever we want .\\n',\n",
              " 'and ziza the son of shiphi , the son of allon , the son of jedaiah , the son of shimri , the son of shemaiah;\\n',\n",
              " 'now a poor wise man was found in it , and he by his wisdom delivered the city; yet no man remembered that same poor man .\\n',\n",
              " \"and the child grew , and she brought him unto pharaoh's daughter , and he became her son . and she called his name moses: and she said , because i drew him out of the water .\\n\",\n",
              " '- i was at the jeweler and nobody came .\\n',\n",
              " 'and the consecrated things were six hundred oxen and three thousand sheep .\\n']"
            ]
          },
          "metadata": {
            "tags": []
          },
          "execution_count": 38
        }
      ]
    },
    {
      "cell_type": "code",
      "metadata": {
        "id": "ut6BmIuXe395",
        "colab": {
          "base_uri": "https://localhost:8080/"
        },
        "outputId": "40d367a0-69d0-4aa5-e453-8d247ff333c3"
      },
      "source": [
        "f= open(\"/content/drive/My Drive/English-Telugu/train.te\")\r\n",
        "te=f.readlines()\r\n",
        "len(te)"
      ],
      "execution_count": 39,
      "outputs": [
        {
          "output_type": "execute_result",
          "data": {
            "text/plain": [
              "75000"
            ]
          },
          "metadata": {
            "tags": []
          },
          "execution_count": 39
        }
      ]
    },
    {
      "cell_type": "code",
      "metadata": {
        "id": "V7iBjCcHoLBb"
      },
      "source": [
        "import re\r\n",
        "def remove_punc(x):\r\n",
        "  return re.sub('[!#?,.:\";\\n]', '', x)"
      ],
      "execution_count": 40,
      "outputs": []
    },
    {
      "cell_type": "code",
      "metadata": {
        "id": "ZM63uDy3pHgX"
      },
      "source": [
        "for i in range(len(te)):\r\n",
        "  te[i]=remove_punc(te[i])"
      ],
      "execution_count": 41,
      "outputs": []
    },
    {
      "cell_type": "code",
      "metadata": {
        "id": "UoYQvJDMp6to",
        "colab": {
          "base_uri": "https://localhost:8080/"
        },
        "outputId": "6f99820d-86c7-49dc-85da-4ee1b48284ef"
      },
      "source": [
        "te[:6]"
      ],
      "execution_count": 42,
      "outputs": [
        {
          "output_type": "execute_result",
          "data": {
            "text/plain": [
              "['మరియు మేము ఉండవు మేము పార్టీ చెయ్యవచ్చు  ',\n",
              " 'షెమయాకు పుట్టిన షిమీ కుమారుడైన యెదాయాకు పుట్టిన అల్లోను కుమారుడైన షిపి కుమారుడైన జీజా అనువారు ',\n",
              " 'అయితే అందులో జ్ఞానముగల యొక బీదవాడుండి తన జ్ఞానముచేత ఆ పట్టణమును రక్షించెను  అయినను ఎవరును ఆ బీదవానిని జ్ఞాపకముంచుకొనలేదు ',\n",
              " 'ఆ బిడ్డ పెద్దవాడైన తరువాత ఆమె ఫరో కుమార్తె యొద్దకు అతని తీసికొని వచ్చెను  అతడు ఆమెకు కుమారుడాయెను  ఆమెనీటిలోనుండి ఇతని తీసితినని చెప్పి అతనికి మోషే అను పేరు పెట్టెను ',\n",
              " '- నేను స్వర్ణకారుడు ఉండేది వచ్చింది ఎవరూ ',\n",
              " 'ప్రతిష్ఠింపబడినవి ఆరువందల ఎద్దులును మూడువేల గొఱ్ఱలును ']"
            ]
          },
          "metadata": {
            "tags": []
          },
          "execution_count": 42
        }
      ]
    },
    {
      "cell_type": "code",
      "metadata": {
        "id": "ESbjTXzUqKWh"
      },
      "source": [
        "for i in range(len(en)):\r\n",
        "  en[i]=remove_punc(en[i])"
      ],
      "execution_count": 43,
      "outputs": []
    },
    {
      "cell_type": "code",
      "metadata": {
        "id": "zQgdHhAJqdNl",
        "colab": {
          "base_uri": "https://localhost:8080/"
        },
        "outputId": "bd9e1f87-c54f-47ea-e754-962c62445cfe"
      },
      "source": [
        "en[:6]"
      ],
      "execution_count": 44,
      "outputs": [
        {
          "output_type": "execute_result",
          "data": {
            "text/plain": [
              "['we just party  and we can do whatever we want ',\n",
              " 'and ziza the son of shiphi  the son of allon  the son of jedaiah  the son of shimri  the son of shemaiah',\n",
              " 'now a poor wise man was found in it  and he by his wisdom delivered the city yet no man remembered that same poor man ',\n",
              " \"and the child grew  and she brought him unto pharaoh's daughter  and he became her son  and she called his name moses and she said  because i drew him out of the water \",\n",
              " '- i was at the jeweler and nobody came ',\n",
              " 'and the consecrated things were six hundred oxen and three thousand sheep ']"
            ]
          },
          "metadata": {
            "tags": []
          },
          "execution_count": 44
        }
      ]
    },
    {
      "cell_type": "code",
      "metadata": {
        "id": "9WfTlqHystjy",
        "colab": {
          "base_uri": "https://localhost:8080/"
        },
        "outputId": "e669ae3c-001f-484b-b7de-5d80f9cee5df"
      },
      "source": [
        "words_en = []\r\n",
        "for i in en:\r\n",
        "  for word in i.split():\r\n",
        "    words_en.append(word)\r\n",
        "    \r\n",
        "words_en[:10]"
      ],
      "execution_count": 45,
      "outputs": [
        {
          "output_type": "execute_result",
          "data": {
            "text/plain": [
              "['we', 'just', 'party', 'and', 'we', 'can', 'do', 'whatever', 'we', 'want']"
            ]
          },
          "metadata": {
            "tags": []
          },
          "execution_count": 45
        }
      ]
    },
    {
      "cell_type": "code",
      "metadata": {
        "id": "Rose90aPs081",
        "colab": {
          "base_uri": "https://localhost:8080/"
        },
        "outputId": "20dc29f6-ba29-4d48-92f1-9edf78bd99aa"
      },
      "source": [
        "words_te = []\r\n",
        "for i in te:\r\n",
        "  for word in i.split():\r\n",
        "    words_te.append(word)\r\n",
        "    \r\n",
        "words_te[:10]"
      ],
      "execution_count": 46,
      "outputs": [
        {
          "output_type": "execute_result",
          "data": {
            "text/plain": [
              "['మరియు',\n",
              " 'మేము',\n",
              " 'ఉండవు',\n",
              " 'మేము',\n",
              " 'పార్టీ',\n",
              " 'చెయ్యవచ్చు',\n",
              " 'షెమయాకు',\n",
              " 'పుట్టిన',\n",
              " 'షిమీ',\n",
              " 'కుమారుడైన']"
            ]
          },
          "metadata": {
            "tags": []
          },
          "execution_count": 46
        }
      ]
    },
    {
      "cell_type": "code",
      "metadata": {
        "id": "KCL4grkFtG4B"
      },
      "source": [
        "from collections import Counter\r\n",
        "english_words_counts = Counter(words_en)\r\n",
        "telugu_words_counts = Counter(words_te)"
      ],
      "execution_count": 47,
      "outputs": []
    },
    {
      "cell_type": "code",
      "metadata": {
        "id": "XsqPykBMuMWg"
      },
      "source": [
        "import operator\r\n",
        "english_words_counts = sorted(english_words_counts.items(), key = operator.itemgetter(1), reverse = True)\r\n",
        "telugu_words_counts = sorted(telugu_words_counts.items(), key = operator.itemgetter(1), reverse = True)"
      ],
      "execution_count": 48,
      "outputs": []
    },
    {
      "cell_type": "code",
      "metadata": {
        "id": "aI-L96BqtRXt",
        "colab": {
          "base_uri": "https://localhost:8080/"
        },
        "outputId": "7b318a32-9779-4a27-f54d-524fbf7c36ec"
      },
      "source": [
        "english_words_counts[:10]"
      ],
      "execution_count": 49,
      "outputs": [
        {
          "output_type": "execute_result",
          "data": {
            "text/plain": [
              "[('the', 113593),\n",
              " ('and', 80265),\n",
              " ('of', 62955),\n",
              " ('to', 34296),\n",
              " ('in', 24579),\n",
              " ('that', 21052),\n",
              " ('you', 20618),\n",
              " ('he', 19632),\n",
              " ('i', 19186),\n",
              " ('a', 17782)]"
            ]
          },
          "metadata": {
            "tags": []
          },
          "execution_count": 49
        }
      ]
    },
    {
      "cell_type": "code",
      "metadata": {
        "id": "R1C7MxiRuGtP",
        "colab": {
          "base_uri": "https://localhost:8080/"
        },
        "outputId": "fbdbd683-d83a-4736-cba1-9fede0060184"
      },
      "source": [
        "telugu_words_counts[:10]"
      ],
      "execution_count": 50,
      "outputs": [
        {
          "output_type": "execute_result",
          "data": {
            "text/plain": [
              "[('నేను', 12085),\n",
              " ('యెహోవా', 9127),\n",
              " ('నీ', 9006),\n",
              " ('నా', 8842),\n",
              " ('ఆ', 8681),\n",
              " ('మీరు', 8569),\n",
              " ('వారు', 6680),\n",
              " ('తన', 5784),\n",
              " ('నీవు', 5701),\n",
              " ('ఆయన', 5691)]"
            ]
          },
          "metadata": {
            "tags": []
          },
          "execution_count": 50
        }
      ]
    },
    {
      "cell_type": "code",
      "metadata": {
        "id": "AxDe0yZuy_SA",
        "colab": {
          "base_uri": "https://localhost:8080/"
        },
        "outputId": "2e8d1112-1a2a-4b11-aad4-096dffb60fd6"
      },
      "source": [
        "maxlen_english = -1\r\n",
        "for doc in en:\r\n",
        "    tokens = nltk.word_tokenize(doc)\r\n",
        "    if(maxlen_english < len(tokens)):\r\n",
        "        maxlen_english = len(tokens)\r\n",
        "print(\"The maximum number of words in any document = \", maxlen_english)"
      ],
      "execution_count": 51,
      "outputs": [
        {
          "output_type": "stream",
          "text": [
            "The maximum number of words in any document =  74\n"
          ],
          "name": "stdout"
        }
      ]
    },
    {
      "cell_type": "code",
      "metadata": {
        "id": "7AmwP5nIzCZe",
        "colab": {
          "base_uri": "https://localhost:8080/"
        },
        "outputId": "062d8fb4-3b32-494b-fcad-e41b42a90963"
      },
      "source": [
        "maxlen_telugu = -1\r\n",
        "for doc in te:\r\n",
        "    tokens = nltk.word_tokenize(doc)\r\n",
        "    if(maxlen_telugu < len(tokens)):\r\n",
        "        maxlen_telugu = len(tokens)\r\n",
        "print(\"The maximum number of words in any document = \", maxlen_telugu)"
      ],
      "execution_count": 52,
      "outputs": [
        {
          "output_type": "stream",
          "text": [
            "The maximum number of words in any document =  47\n"
          ],
          "name": "stdout"
        }
      ]
    },
    {
      "cell_type": "code",
      "metadata": {
        "id": "eVwrzEyOzMbg"
      },
      "source": [
        "def tokenize_and_pad(x, maxlen):\r\n",
        "  #  a tokenier to tokenize the words and create sequences of tokenized words\r\n",
        "  tokenizer = Tokenizer(char_level = False)\r\n",
        "  tokenizer.fit_on_texts(x)\r\n",
        "  sequences = tokenizer.texts_to_sequences(x)\r\n",
        "  padded = pad_sequences(sequences, maxlen = maxlen, padding = 'post')\r\n",
        "  return tokenizer, sequences, padded"
      ],
      "execution_count": 53,
      "outputs": []
    },
    {
      "cell_type": "code",
      "metadata": {
        "id": "3Ul6gROGzRu-"
      },
      "source": [
        "from tensorflow.keras.preprocessing.text import one_hot, Tokenizer\r\n",
        "from tensorflow.keras.preprocessing.sequence import pad_sequences\r\n",
        "x_tokenizer, x_sequences, x_padded = tokenize_and_pad(en, maxlen_english)\r\n",
        "y_tokenizer, y_sequences, y_padded = tokenize_and_pad(te,  maxlen_telugu)"
      ],
      "execution_count": 54,
      "outputs": []
    },
    {
      "cell_type": "code",
      "metadata": {
        "id": "E3Guuk4K2Zev",
        "colab": {
          "base_uri": "https://localhost:8080/"
        },
        "outputId": "a3fefed3-5def-49d4-9850-09baeb21b76d"
      },
      "source": [
        "[print(\"The tokenized version for document\\n\", en[-1:][0],\"\\n\", x_padded[-1:][0])]"
      ],
      "execution_count": 55,
      "outputs": [
        {
          "output_type": "stream",
          "text": [
            "The tokenized version for document\n",
            " how could you stand for it  \n",
            " [149 391   7 316  11  16   0   0   0   0   0   0   0   0   0   0   0   0\n",
            "   0   0   0   0   0   0   0   0   0   0   0   0   0   0   0   0   0   0\n",
            "   0   0   0   0   0   0   0   0   0   0   0   0   0   0   0   0   0   0\n",
            "   0   0   0   0   0   0   0   0   0   0   0   0   0   0   0   0   0   0\n",
            "   0   0]\n"
          ],
          "name": "stdout"
        },
        {
          "output_type": "execute_result",
          "data": {
            "text/plain": [
              "[None]"
            ]
          },
          "metadata": {
            "tags": []
          },
          "execution_count": 55
        }
      ]
    },
    {
      "cell_type": "code",
      "metadata": {
        "id": "JrUwGhk73AMf",
        "colab": {
          "base_uri": "https://localhost:8080/"
        },
        "outputId": "7cefbc4b-fc76-4b20-ebb7-3c2c8f7acae6"
      },
      "source": [
        "print(\"The tokenized version for document\\n\", te[-1:][0],\"\\n \", y_padded[-1:][0])"
      ],
      "execution_count": 56,
      "outputs": [
        {
          "output_type": "stream",
          "text": [
            "The tokenized version for document\n",
            " మీరు ఎలా నిలబడటానికి కాలేదు  \n",
            "  [   6  296 8102  887    0    0    0    0    0    0    0    0    0    0\n",
            "    0    0    0    0    0    0    0    0    0    0    0    0    0    0\n",
            "    0    0    0    0    0    0    0    0    0    0    0    0    0    0\n",
            "    0    0    0    0    0]\n"
          ],
          "name": "stdout"
        }
      ]
    },
    {
      "cell_type": "code",
      "metadata": {
        "id": "otjJyqRY3xSh"
      },
      "source": [
        "from tensorflow.keras.preprocessing.text import one_hot, Tokenizer\r\n",
        "from tensorflow.keras.preprocessing.sequence import pad_sequences\r\n",
        "from tensorflow.keras.models import Sequential\r\n",
        "from tensorflow.keras.layers import Dense, Flatten, TimeDistributed, RepeatVector, Embedding, Input, LSTM, Conv1D, MaxPool1D, Bidirectional\r\n",
        "from tensorflow.keras.models import Model"
      ],
      "execution_count": 57,
      "outputs": []
    },
    {
      "cell_type": "code",
      "metadata": {
        "id": "tQHvTnXS4b08"
      },
      "source": [
        "english_vocab_size = len(english_words_counts)\r\n",
        "telugu_vocab_size = len(telugu_words_counts)"
      ],
      "execution_count": 58,
      "outputs": []
    },
    {
      "cell_type": "code",
      "metadata": {
        "id": "gT43npaY3lDB",
        "colab": {
          "base_uri": "https://localhost:8080/"
        },
        "outputId": "4056f215-edfa-4ccc-caed-f911cdc9e870"
      },
      "source": [
        "# Sequential Model\r\n",
        "model = Sequential()\r\n",
        "# embedding layer\r\n",
        "model.add(Embedding(english_vocab_size, 256, input_length = maxlen_english, mask_zero = True))\r\n",
        "# encoder\r\n",
        "model.add(LSTM(256, return_sequences= True))\r\n",
        "model.add(LSTM(128))\r\n",
        "# decoder\r\n",
        "# repeatvector repeats the input for the desired number of times to change\r\n",
        "# 2D-array to 3D array. For example: (1,256) to (1,23,256)\r\n",
        "model.add(RepeatVector(maxlen_telugu))\r\n",
        "model.add(LSTM(256, return_sequences= True ))\r\n",
        "model.add(LSTM(128, return_sequences= True ))\r\n",
        "model.add(TimeDistributed(Dense(telugu_vocab_size, activation ='softmax')))\r\n",
        "model.compile(optimizer='adam', loss='sparse_categorical_crossentropy', metrics=['accuracy'])\r\n",
        "model.summary()"
      ],
      "execution_count": 59,
      "outputs": [
        {
          "output_type": "stream",
          "text": [
            "Model: \"sequential_1\"\n",
            "_________________________________________________________________\n",
            "Layer (type)                 Output Shape              Param #   \n",
            "=================================================================\n",
            "embedding_1 (Embedding)      (None, 74, 256)           5810688   \n",
            "_________________________________________________________________\n",
            "lstm_2 (LSTM)                (None, 256)               525312    \n",
            "_________________________________________________________________\n",
            "repeat_vector_1 (RepeatVecto (None, 47, 256)           0         \n",
            "_________________________________________________________________\n",
            "lstm_3 (LSTM)                (None, 47, 256)           525312    \n",
            "_________________________________________________________________\n",
            "time_distributed_1 (TimeDist (None, 47, 106518)        27375126  \n",
            "=================================================================\n",
            "Total params: 34,236,438\n",
            "Trainable params: 34,236,438\n",
            "Non-trainable params: 0\n",
            "_________________________________________________________________\n"
          ],
          "name": "stdout"
        }
      ]
    },
    {
      "cell_type": "code",
      "metadata": {
        "id": "nl5M3KZi6vC5"
      },
      "source": [
        "from sklearn.model_selection import train_test_split\r\n",
        "\r\n",
        "x_train, x_test, y_train, y_test = train_test_split(x_padded, y_padded, test_size = 0.1)"
      ],
      "execution_count": 60,
      "outputs": []
    },
    {
      "cell_type": "code",
      "metadata": {
        "id": "bRSTosHC3_-0",
        "colab": {
          "base_uri": "https://localhost:8080/"
        },
        "outputId": "828fc40d-7cdc-43ab-f774-faa1be5f7617"
      },
      "source": [
        "import numpy as np\r\n",
        "y_train = np.expand_dims(y_train, axis = 2)\r\n",
        "y_train.shape"
      ],
      "execution_count": 61,
      "outputs": [
        {
          "output_type": "execute_result",
          "data": {
            "text/plain": [
              "(67500, 47, 1)"
            ]
          },
          "metadata": {
            "tags": []
          },
          "execution_count": 61
        }
      ]
    },
    {
      "cell_type": "code",
      "metadata": {
        "id": "mSJfmg375Iyq",
        "colab": {
          "base_uri": "https://localhost:8080/"
        },
        "outputId": "f83f259f-f5d8-4bc0-a338-a35269513cbe"
      },
      "source": [
        "history=model.fit(x_train, y_train, batch_size=128, validation_split= 0.1, epochs=10)"
      ],
      "execution_count": 62,
      "outputs": [
        {
          "output_type": "stream",
          "text": [
            "Epoch 1/10\n",
            "475/475 [==============================] - 357s 739ms/step - loss: 4.2315 - accuracy: 0.7335 - val_loss: 2.6125 - val_accuracy: 0.7445\n",
            "Epoch 2/10\n",
            "475/475 [==============================] - 349s 735ms/step - loss: 2.5565 - accuracy: 0.7457 - val_loss: 2.5877 - val_accuracy: 0.7461\n",
            "Epoch 3/10\n",
            "475/475 [==============================] - 349s 734ms/step - loss: 2.5164 - accuracy: 0.7472 - val_loss: 2.5633 - val_accuracy: 0.7466\n",
            "Epoch 4/10\n",
            "475/475 [==============================] - 349s 734ms/step - loss: 2.4884 - accuracy: 0.7464 - val_loss: 2.5288 - val_accuracy: 0.7471\n",
            "Epoch 5/10\n",
            "475/475 [==============================] - 348s 734ms/step - loss: 2.4277 - accuracy: 0.7477 - val_loss: 2.4891 - val_accuracy: 0.7470\n",
            "Epoch 6/10\n",
            "475/475 [==============================] - 348s 733ms/step - loss: 2.3801 - accuracy: 0.7480 - val_loss: 2.4632 - val_accuracy: 0.7470\n",
            "Epoch 7/10\n",
            "475/475 [==============================] - 348s 733ms/step - loss: 2.3364 - accuracy: 0.7488 - val_loss: 2.4319 - val_accuracy: 0.7477\n",
            "Epoch 8/10\n",
            "475/475 [==============================] - 348s 734ms/step - loss: 2.2938 - accuracy: 0.7487 - val_loss: 2.3907 - val_accuracy: 0.7487\n",
            "Epoch 9/10\n",
            "475/475 [==============================] - 349s 734ms/step - loss: 2.2224 - accuracy: 0.7505 - val_loss: 2.3501 - val_accuracy: 0.7492\n",
            "Epoch 10/10\n",
            "475/475 [==============================] - 349s 734ms/step - loss: 2.1502 - accuracy: 0.7522 - val_loss: 2.3210 - val_accuracy: 0.7496\n"
          ],
          "name": "stdout"
        }
      ]
    },
    {
      "cell_type": "code",
      "metadata": {
        "colab": {
          "base_uri": "https://localhost:8080/"
        },
        "id": "ZVrrSr2Zjq3G",
        "outputId": "09c18d4e-6f97-4cb5-bd73-d0d3d6efdfb4"
      },
      "source": [
        "y_test = np.expand_dims(y_test, axis = 2)\r\n",
        "y_test.shape"
      ],
      "execution_count": 63,
      "outputs": [
        {
          "output_type": "execute_result",
          "data": {
            "text/plain": [
              "(7500, 47, 1)"
            ]
          },
          "metadata": {
            "tags": []
          },
          "execution_count": 63
        }
      ]
    },
    {
      "cell_type": "code",
      "metadata": {
        "colab": {
          "base_uri": "https://localhost:8080/"
        },
        "id": "v37hLmm1jgO0",
        "outputId": "8d1780f8-8021-4a24-e569-a170d83e6048"
      },
      "source": [
        "model.evaluate(x_test, y_test, batch_size=32)"
      ],
      "execution_count": 64,
      "outputs": [
        {
          "output_type": "stream",
          "text": [
            "235/235 [==============================] - 61s 260ms/step - loss: 2.3084 - accuracy: 0.7507\n"
          ],
          "name": "stdout"
        },
        {
          "output_type": "execute_result",
          "data": {
            "text/plain": [
              "[2.308351516723633, 0.7507376074790955]"
            ]
          },
          "metadata": {
            "tags": []
          },
          "execution_count": 64
        }
      ]
    },
    {
      "cell_type": "code",
      "metadata": {
        "id": "sKJQeoNGGG-v"
      },
      "source": [
        "model.save(\"NMT2.h5\")"
      ],
      "execution_count": 65,
      "outputs": []
    },
    {
      "cell_type": "code",
      "metadata": {
        "colab": {
          "base_uri": "https://localhost:8080/",
          "height": 573
        },
        "id": "z4iikkscvMWA",
        "outputId": "4a097276-9de7-4639-e2b2-ba5139b75f78"
      },
      "source": [
        "import matplotlib.pyplot as plt\r\n",
        "loss=history.history['loss']\r\n",
        "acc=history.history['accuracy']\r\n",
        "epochs=range(len(loss))\r\n",
        "plt.plot(epochs, loss, 'r')\r\n",
        "plt.title('Training loss')\r\n",
        "plt.xlabel(\"Epochs\")\r\n",
        "plt.ylabel(\"Loss\")\r\n",
        "plt.show()\r\n",
        "plt.plot(epochs, acc, 'b')\r\n",
        "plt.title('Training loss')\r\n",
        "plt.xlabel(\"Epochs\")\r\n",
        "plt.ylabel(\"accuracy\")\r\n",
        "plt.legend([\"accuracy\"])\r\n",
        "plt.legend([\"accuracy\"])\r\n",
        "plt.show()"
      ],
      "execution_count": 67,
      "outputs": [
        {
          "output_type": "display_data",
          "data": {
            "image/png": "[encoded data removed]",
            "text/plain": [
              "<Figure size 432x288 with 1 Axes>"
            ]
          },
          "metadata": {
            "tags": [],
            "needs_background": "light"
          }
        },
        {
          "output_type": "display_data",
          "data": {
            "image/png": "[encoded data removed]",
            "text/plain": [
              "<Figure size 432x288 with 1 Axes>"
            ]
          },
          "metadata": {
            "tags": [],
            "needs_background": "light"
          }
        }
      ]
    },
    {
      "cell_type": "code",
      "metadata": {
        "id": "pnYhySJ1_yU8"
      },
      "source": [
        ""
      ],
      "execution_count": null,
      "outputs": []
    }
  ]
}