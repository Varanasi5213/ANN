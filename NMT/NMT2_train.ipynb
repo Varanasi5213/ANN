{
  "nbformat": 4,
  "nbformat_minor": 0,
  "metadata": {
    "colab": {
      "name": "NMT.ipynb",
      "provenance": [],
      "collapsed_sections": []
    },
    "kernelspec": {
      "name": "python3",
      "display_name": "Python 3"
    },
    "accelerator": "GPU"
  },
  "cells": [
    {
      "cell_type": "code",
      "metadata": {
        "id": "wplCXgWib9LW",
        "colab": {
          "base_uri": "https://localhost:8080/"
        },
        "outputId": "4ac8e8b5-21a0-492c-a1ae-2e20330477f7"
      },
      "source": [
        "from google.colab import drive\r\n",
        "drive.mount('/content/drive/')"
      ],
      "execution_count": 3,
      "outputs": [
        {
          "output_type": "stream",
          "text": [
            "Drive already mounted at /content/drive/; to attempt to forcibly remount, call drive.mount(\"/content/drive/\", force_remount=True).\n"
          ],
          "name": "stdout"
        }
      ]
    },
    {
      "cell_type": "code",
      "metadata": {
        "id": "Psrj8X2OcgM-"
      },
      "source": [
        "import nltk\r\n",
        "import pandas as pd"
      ],
      "execution_count": 4,
      "outputs": []
    },
    {
      "cell_type": "code",
      "metadata": {
        "id": "5XJISE6_1JF3",
        "colab": {
          "base_uri": "https://localhost:8080/"
        },
        "outputId": "a4aedb98-8340-449f-9e8e-b7adc2c2def5"
      },
      "source": [
        "nltk.download('punkt')"
      ],
      "execution_count": 5,
      "outputs": [
        {
          "output_type": "stream",
          "text": [
            "[nltk_data] Downloading package punkt to /root/nltk_data...\n",
            "[nltk_data]   Package punkt is already up-to-date!\n"
          ],
          "name": "stdout"
        },
        {
          "output_type": "execute_result",
          "data": {
            "text/plain": [
              "True"
            ]
          },
          "metadata": {
            "tags": []
          },
          "execution_count": 5
        }
      ]
    },
    {
      "cell_type": "code",
      "metadata": {
        "id": "3nPDSjoGf29R",
        "colab": {
          "base_uri": "https://localhost:8080/"
        },
        "outputId": "5b1f506e-eaf6-4063-e7f7-b86663415577"
      },
      "source": [
        "from nltk.tokenize import word_tokenize,sent_tokenize\r\n",
        "filepath = '/content/drive/My Drive/English-Telugu/train.en'\r\n",
        "corpus = open(filepath, 'r').read()\r\n",
        "words = nltk.word_tokenize(corpus)\r\n",
        "print(\"The number of tokens is\", len(words))\r\n",
        "average_tokens = round(len(words)/75000)\r\n",
        "print(\"The average number of tokens per sentence is\",average_tokens)\r\n",
        "unique_tokens = set(words)\r\n",
        "print(\"The number of unique tokens are\", len(unique_tokens))"
      ],
      "execution_count": 6,
      "outputs": [
        {
          "output_type": "stream",
          "text": [
            "The number of tokens is 1809312\n",
            "The average number of tokens per sentence is 24\n",
            "The number of unique tokens are 21095\n"
          ],
          "name": "stdout"
        }
      ]
    },
    {
      "cell_type": "code",
      "metadata": {
        "id": "6UN6dzP0jl4z",
        "colab": {
          "base_uri": "https://localhost:8080/"
        },
        "outputId": "b828e236-6b37-4093-acee-5826ceb1f80f"
      },
      "source": [
        "from nltk.tokenize import word_tokenize,sent_tokenize\r\n",
        "filepath = nltk.data.find('/content/drive/My Drive/English-Telugu/train.te')\r\n",
        "corpus = open(filepath, 'r').read()\r\n",
        "words = nltk.word_tokenize(corpus)\r\n",
        "print(\"The number of tokens is\", len(words))\r\n",
        "average_tokens = round(len(words)/75000)\r\n",
        "print(\"The average number of tokens per sentence is\",average_tokens)\r\n",
        "unique_tokens = set(words)\r\n",
        "print(\"The number of unique tokens are\", len(unique_tokens))"
      ],
      "execution_count": 7,
      "outputs": [
        {
          "output_type": "stream",
          "text": [
            "The number of tokens is 1030924\n",
            "The average number of tokens per sentence is 14\n",
            "The number of unique tokens are 106016\n"
          ],
          "name": "stdout"
        }
      ]
    },
    {
      "cell_type": "code",
      "metadata": {
        "id": "rRJuKtAMedZY",
        "colab": {
          "base_uri": "https://localhost:8080/"
        },
        "outputId": "f70cb94a-9b5c-46be-eb14-4ebfea0ec86d"
      },
      "source": [
        "f= open(\"/content/drive/My Drive/English-Telugu/train.en\")\r\n",
        "en=f.readlines()\r\n",
        "len(en)"
      ],
      "execution_count": 8,
      "outputs": [
        {
          "output_type": "execute_result",
          "data": {
            "text/plain": [
              "75000"
            ]
          },
          "metadata": {
            "tags": []
          },
          "execution_count": 8
        }
      ]
    },
    {
      "cell_type": "code",
      "metadata": {
        "id": "G_4fqWkerktZ",
        "colab": {
          "base_uri": "https://localhost:8080/"
        },
        "outputId": "e772a356-9f55-4c28-b418-7df799fc68bc"
      },
      "source": [
        "en[:6]"
      ],
      "execution_count": 9,
      "outputs": [
        {
          "output_type": "execute_result",
          "data": {
            "text/plain": [
              "['we just party , and we can do whatever we want .\\n',\n",
              " 'and ziza the son of shiphi , the son of allon , the son of jedaiah , the son of shimri , the son of shemaiah;\\n',\n",
              " 'now a poor wise man was found in it , and he by his wisdom delivered the city; yet no man remembered that same poor man .\\n',\n",
              " \"and the child grew , and she brought him unto pharaoh's daughter , and he became her son . and she called his name moses: and she said , because i drew him out of the water .\\n\",\n",
              " '- i was at the jeweler and nobody came .\\n',\n",
              " 'and the consecrated things were six hundred oxen and three thousand sheep .\\n']"
            ]
          },
          "metadata": {
            "tags": []
          },
          "execution_count": 9
        }
      ]
    },
    {
      "cell_type": "code",
      "metadata": {
        "id": "ut6BmIuXe395",
        "colab": {
          "base_uri": "https://localhost:8080/"
        },
        "outputId": "3c29ef6a-eaa5-4ac5-f8d6-9a963c799dac"
      },
      "source": [
        "f= open(\"/content/drive/My Drive/English-Telugu/train.te\")\r\n",
        "te=f.readlines()\r\n",
        "len(te)"
      ],
      "execution_count": 10,
      "outputs": [
        {
          "output_type": "execute_result",
          "data": {
            "text/plain": [
              "75000"
            ]
          },
          "metadata": {
            "tags": []
          },
          "execution_count": 10
        }
      ]
    },
    {
      "cell_type": "code",
      "metadata": {
        "id": "V7iBjCcHoLBb"
      },
      "source": [
        "import re\r\n",
        "def remove_punc(x):\r\n",
        "  return re.sub('[!#?,.:\";\\n]', '', x)"
      ],
      "execution_count": 11,
      "outputs": []
    },
    {
      "cell_type": "code",
      "metadata": {
        "id": "ZM63uDy3pHgX"
      },
      "source": [
        "for i in range(len(te)):\r\n",
        "  te[i]=remove_punc(te[i])"
      ],
      "execution_count": 12,
      "outputs": []
    },
    {
      "cell_type": "code",
      "metadata": {
        "id": "UoYQvJDMp6to",
        "colab": {
          "base_uri": "https://localhost:8080/"
        },
        "outputId": "501ec692-6100-47b0-c7c2-fe214708d77b"
      },
      "source": [
        "te[:6]"
      ],
      "execution_count": 13,
      "outputs": [
        {
          "output_type": "execute_result",
          "data": {
            "text/plain": [
              "['మరియు మేము ఉండవు మేము పార్టీ చెయ్యవచ్చు  ',\n",
              " 'షెమయాకు పుట్టిన షిమీ కుమారుడైన యెదాయాకు పుట్టిన అల్లోను కుమారుడైన షిపి కుమారుడైన జీజా అనువారు ',\n",
              " 'అయితే అందులో జ్ఞానముగల యొక బీదవాడుండి తన జ్ఞానముచేత ఆ పట్టణమును రక్షించెను  అయినను ఎవరును ఆ బీదవానిని జ్ఞాపకముంచుకొనలేదు ',\n",
              " 'ఆ బిడ్డ పెద్దవాడైన తరువాత ఆమె ఫరో కుమార్తె యొద్దకు అతని తీసికొని వచ్చెను  అతడు ఆమెకు కుమారుడాయెను  ఆమెనీటిలోనుండి ఇతని తీసితినని చెప్పి అతనికి మోషే అను పేరు పెట్టెను ',\n",
              " '- నేను స్వర్ణకారుడు ఉండేది వచ్చింది ఎవరూ ',\n",
              " 'ప్రతిష్ఠింపబడినవి ఆరువందల ఎద్దులును మూడువేల గొఱ్ఱలును ']"
            ]
          },
          "metadata": {
            "tags": []
          },
          "execution_count": 13
        }
      ]
    },
    {
      "cell_type": "code",
      "metadata": {
        "id": "ESbjTXzUqKWh"
      },
      "source": [
        "for i in range(len(en)):\r\n",
        "  en[i]=remove_punc(en[i])"
      ],
      "execution_count": 14,
      "outputs": []
    },
    {
      "cell_type": "code",
      "metadata": {
        "id": "zQgdHhAJqdNl",
        "colab": {
          "base_uri": "https://localhost:8080/"
        },
        "outputId": "05782ec0-6fe5-4e26-fcf6-7e1680f98ff5"
      },
      "source": [
        "en[:6]"
      ],
      "execution_count": 15,
      "outputs": [
        {
          "output_type": "execute_result",
          "data": {
            "text/plain": [
              "['we just party  and we can do whatever we want ',\n",
              " 'and ziza the son of shiphi  the son of allon  the son of jedaiah  the son of shimri  the son of shemaiah',\n",
              " 'now a poor wise man was found in it  and he by his wisdom delivered the city yet no man remembered that same poor man ',\n",
              " \"and the child grew  and she brought him unto pharaoh's daughter  and he became her son  and she called his name moses and she said  because i drew him out of the water \",\n",
              " '- i was at the jeweler and nobody came ',\n",
              " 'and the consecrated things were six hundred oxen and three thousand sheep ']"
            ]
          },
          "metadata": {
            "tags": []
          },
          "execution_count": 15
        }
      ]
    },
    {
      "cell_type": "code",
      "metadata": {
        "id": "9WfTlqHystjy",
        "colab": {
          "base_uri": "https://localhost:8080/"
        },
        "outputId": "e1854aa6-ca11-4365-9b0d-0811e8ddcb75"
      },
      "source": [
        "words_en = []\r\n",
        "for i in en:\r\n",
        "  for word in i.split():\r\n",
        "    words_en.append(word)\r\n",
        "    \r\n",
        "words_en[:10]"
      ],
      "execution_count": 16,
      "outputs": [
        {
          "output_type": "execute_result",
          "data": {
            "text/plain": [
              "['we', 'just', 'party', 'and', 'we', 'can', 'do', 'whatever', 'we', 'want']"
            ]
          },
          "metadata": {
            "tags": []
          },
          "execution_count": 16
        }
      ]
    },
    {
      "cell_type": "code",
      "metadata": {
        "id": "Rose90aPs081",
        "colab": {
          "base_uri": "https://localhost:8080/"
        },
        "outputId": "2af63ed8-e5f1-4042-bdd6-a763be166899"
      },
      "source": [
        "words_te = []\r\n",
        "for i in te:\r\n",
        "  for word in i.split():\r\n",
        "    words_te.append(word)\r\n",
        "    \r\n",
        "words_te[:10]"
      ],
      "execution_count": 17,
      "outputs": [
        {
          "output_type": "execute_result",
          "data": {
            "text/plain": [
              "['మరియు',\n",
              " 'మేము',\n",
              " 'ఉండవు',\n",
              " 'మేము',\n",
              " 'పార్టీ',\n",
              " 'చెయ్యవచ్చు',\n",
              " 'షెమయాకు',\n",
              " 'పుట్టిన',\n",
              " 'షిమీ',\n",
              " 'కుమారుడైన']"
            ]
          },
          "metadata": {
            "tags": []
          },
          "execution_count": 17
        }
      ]
    },
    {
      "cell_type": "code",
      "metadata": {
        "id": "KCL4grkFtG4B"
      },
      "source": [
        "from collections import Counter\r\n",
        "english_words_counts = Counter(words_en)\r\n",
        "telugu_words_counts = Counter(words_te)"
      ],
      "execution_count": 18,
      "outputs": []
    },
    {
      "cell_type": "code",
      "metadata": {
        "id": "XsqPykBMuMWg"
      },
      "source": [
        "import operator\r\n",
        "english_words_counts = sorted(english_words_counts.items(), key = operator.itemgetter(1), reverse = True)\r\n",
        "telugu_words_counts = sorted(telugu_words_counts.items(), key = operator.itemgetter(1), reverse = True)"
      ],
      "execution_count": 19,
      "outputs": []
    },
    {
      "cell_type": "code",
      "metadata": {
        "id": "aI-L96BqtRXt",
        "colab": {
          "base_uri": "https://localhost:8080/"
        },
        "outputId": "527984d9-aa37-4f88-d4bb-da1b7c03c2fb"
      },
      "source": [
        "english_words_counts[:10]"
      ],
      "execution_count": 20,
      "outputs": [
        {
          "output_type": "execute_result",
          "data": {
            "text/plain": [
              "[('the', 113593),\n",
              " ('and', 80265),\n",
              " ('of', 62955),\n",
              " ('to', 34296),\n",
              " ('in', 24579),\n",
              " ('that', 21052),\n",
              " ('you', 20618),\n",
              " ('he', 19632),\n",
              " ('i', 19186),\n",
              " ('a', 17782)]"
            ]
          },
          "metadata": {
            "tags": []
          },
          "execution_count": 20
        }
      ]
    },
    {
      "cell_type": "code",
      "metadata": {
        "id": "R1C7MxiRuGtP",
        "colab": {
          "base_uri": "https://localhost:8080/"
        },
        "outputId": "96de1df0-28b7-4a01-b7fb-5ace8ad9bb6a"
      },
      "source": [
        "telugu_words_counts[:10]"
      ],
      "execution_count": 21,
      "outputs": [
        {
          "output_type": "execute_result",
          "data": {
            "text/plain": [
              "[('నేను', 12085),\n",
              " ('యెహోవా', 9127),\n",
              " ('నీ', 9006),\n",
              " ('నా', 8842),\n",
              " ('ఆ', 8681),\n",
              " ('మీరు', 8569),\n",
              " ('వారు', 6680),\n",
              " ('తన', 5784),\n",
              " ('నీవు', 5701),\n",
              " ('ఆయన', 5691)]"
            ]
          },
          "metadata": {
            "tags": []
          },
          "execution_count": 21
        }
      ]
    },
    {
      "cell_type": "code",
      "metadata": {
        "id": "AxDe0yZuy_SA",
        "colab": {
          "base_uri": "https://localhost:8080/"
        },
        "outputId": "333dcd63-9829-4adf-d7f6-92899bfe2206"
      },
      "source": [
        "maxlen_english = -1\r\n",
        "for doc in en:\r\n",
        "    tokens = nltk.word_tokenize(doc)\r\n",
        "    if(maxlen_english < len(tokens)):\r\n",
        "        maxlen_english = len(tokens)\r\n",
        "print(\"The maximum number of words in any document = \", maxlen_english)"
      ],
      "execution_count": 22,
      "outputs": [
        {
          "output_type": "stream",
          "text": [
            "The maximum number of words in any document =  74\n"
          ],
          "name": "stdout"
        }
      ]
    },
    {
      "cell_type": "code",
      "metadata": {
        "id": "7AmwP5nIzCZe",
        "colab": {
          "base_uri": "https://localhost:8080/"
        },
        "outputId": "008db7b5-c3d3-4073-c1ff-59a1cbda6ccb"
      },
      "source": [
        "maxlen_telugu = -1\r\n",
        "for doc in te:\r\n",
        "    tokens = nltk.word_tokenize(doc)\r\n",
        "    if(maxlen_telugu < len(tokens)):\r\n",
        "        maxlen_telugu = len(tokens)\r\n",
        "print(\"The maximum number of words in any document = \", maxlen_telugu)"
      ],
      "execution_count": 23,
      "outputs": [
        {
          "output_type": "stream",
          "text": [
            "The maximum number of words in any document =  47\n"
          ],
          "name": "stdout"
        }
      ]
    },
    {
      "cell_type": "code",
      "metadata": {
        "id": "eVwrzEyOzMbg"
      },
      "source": [
        "def tokenize_and_pad(x, maxlen):\r\n",
        "  #  a tokenier to tokenize the words and create sequences of tokenized words\r\n",
        "  tokenizer = Tokenizer(char_level = False)\r\n",
        "  tokenizer.fit_on_texts(x)\r\n",
        "  sequences = tokenizer.texts_to_sequences(x)\r\n",
        "  padded = pad_sequences(sequences, maxlen = maxlen, padding = 'post')\r\n",
        "  return tokenizer, sequences, padded"
      ],
      "execution_count": 24,
      "outputs": []
    },
    {
      "cell_type": "code",
      "metadata": {
        "id": "3Ul6gROGzRu-"
      },
      "source": [
        "from tensorflow.keras.preprocessing.text import one_hot, Tokenizer\r\n",
        "from tensorflow.keras.preprocessing.sequence import pad_sequences\r\n",
        "x_tokenizer, x_sequences, x_padded = tokenize_and_pad(en, maxlen_english)\r\n",
        "y_tokenizer, y_sequences, y_padded = tokenize_and_pad(te,  maxlen_telugu)"
      ],
      "execution_count": 25,
      "outputs": []
    },
    {
      "cell_type": "code",
      "metadata": {
        "id": "E3Guuk4K2Zev",
        "colab": {
          "base_uri": "https://localhost:8080/"
        },
        "outputId": "b0086622-ec7e-4f45-87e1-2cd227368650"
      },
      "source": [
        "[print(\"The tokenized version for document\\n\", en[-1:][0],\"\\n\", x_padded[-1:][0])]"
      ],
      "execution_count": 26,
      "outputs": [
        {
          "output_type": "stream",
          "text": [
            "The tokenized version for document\n",
            " how could you stand for it  \n",
            " [149 391   7 316  11  16   0   0   0   0   0   0   0   0   0   0   0   0\n",
            "   0   0   0   0   0   0   0   0   0   0   0   0   0   0   0   0   0   0\n",
            "   0   0   0   0   0   0   0   0   0   0   0   0   0   0   0   0   0   0\n",
            "   0   0   0   0   0   0   0   0   0   0   0   0   0   0   0   0   0   0\n",
            "   0   0]\n"
          ],
          "name": "stdout"
        },
        {
          "output_type": "execute_result",
          "data": {
            "text/plain": [
              "[None]"
            ]
          },
          "metadata": {
            "tags": []
          },
          "execution_count": 26
        }
      ]
    },
    {
      "cell_type": "code",
      "metadata": {
        "id": "JrUwGhk73AMf",
        "colab": {
          "base_uri": "https://localhost:8080/"
        },
        "outputId": "29e11b61-468e-4cef-8822-3b04a30c367d"
      },
      "source": [
        "print(\"The tokenized version for document\\n\", te[-1:][0],\"\\n \", y_padded[-1:][0])"
      ],
      "execution_count": 27,
      "outputs": [
        {
          "output_type": "stream",
          "text": [
            "The tokenized version for document\n",
            " మీరు ఎలా నిలబడటానికి కాలేదు  \n",
            "  [   6  296 8102  887    0    0    0    0    0    0    0    0    0    0\n",
            "    0    0    0    0    0    0    0    0    0    0    0    0    0    0\n",
            "    0    0    0    0    0    0    0    0    0    0    0    0    0    0\n",
            "    0    0    0    0    0]\n"
          ],
          "name": "stdout"
        }
      ]
    },
    {
      "cell_type": "code",
      "metadata": {
        "id": "otjJyqRY3xSh"
      },
      "source": [
        "from tensorflow.keras.preprocessing.text import one_hot, Tokenizer\r\n",
        "from tensorflow.keras.preprocessing.sequence import pad_sequences\r\n",
        "from tensorflow.keras.models import Sequential\r\n",
        "from tensorflow.keras.layers import Dense, Flatten, TimeDistributed, RepeatVector, Embedding, Input, LSTM, Conv1D, MaxPool1D, Bidirectional\r\n",
        "from tensorflow.keras.models import Model"
      ],
      "execution_count": 28,
      "outputs": []
    },
    {
      "cell_type": "code",
      "metadata": {
        "id": "tQHvTnXS4b08"
      },
      "source": [
        "english_vocab_size = len(english_words_counts)\r\n",
        "telugu_vocab_size = len(telugu_words_counts)"
      ],
      "execution_count": 29,
      "outputs": []
    },
    {
      "cell_type": "code",
      "metadata": {
        "id": "gT43npaY3lDB",
        "colab": {
          "base_uri": "https://localhost:8080/"
        },
        "outputId": "d6c06603-6a5a-462d-f331-72e058e69660"
      },
      "source": [
        "# Sequential Model\r\n",
        "model = Sequential()\r\n",
        "# embedding layer\r\n",
        "model.add(Embedding(english_vocab_size, 256, input_length = maxlen_english, mask_zero = True))\r\n",
        "# encoder\r\n",
        "model.add(LSTM(256, return_sequences= True))\r\n",
        "model.add(LSTM(128))\r\n",
        "# decoder\r\n",
        "# repeatvector repeats the input for the desired number of times to change\r\n",
        "# 2D-array to 3D array. For example: (1,256) to (1,23,256)\r\n",
        "model.add(RepeatVector(maxlen_telugu))\r\n",
        "model.add(LSTM(256, return_sequences= True ))\r\n",
        "model.add(LSTM(128, return_sequences= True ))\r\n",
        "model.add(TimeDistributed(Dense(telugu_vocab_size, activation ='softmax')))\r\n",
        "model.compile(optimizer='adam', loss='sparse_categorical_crossentropy', metrics=['accuracy'])\r\n",
        "model.summary()"
      ],
      "execution_count": 30,
      "outputs": [
        {
          "output_type": "stream",
          "text": [
            "Model: \"sequential\"\n",
            "_________________________________________________________________\n",
            "Layer (type)                 Output Shape              Param #   \n",
            "=================================================================\n",
            "embedding (Embedding)        (None, 74, 256)           5810688   \n",
            "_________________________________________________________________\n",
            "lstm (LSTM)                  (None, 74, 256)           525312    \n",
            "_________________________________________________________________\n",
            "lstm_1 (LSTM)                (None, 128)               197120    \n",
            "_________________________________________________________________\n",
            "repeat_vector (RepeatVector) (None, 47, 128)           0         \n",
            "_________________________________________________________________\n",
            "lstm_2 (LSTM)                (None, 47, 256)           394240    \n",
            "_________________________________________________________________\n",
            "lstm_3 (LSTM)                (None, 47, 128)           197120    \n",
            "_________________________________________________________________\n",
            "time_distributed (TimeDistri (None, 47, 106518)        13740822  \n",
            "=================================================================\n",
            "Total params: 20,865,302\n",
            "Trainable params: 20,865,302\n",
            "Non-trainable params: 0\n",
            "_________________________________________________________________\n"
          ],
          "name": "stdout"
        }
      ]
    },
    {
      "cell_type": "code",
      "metadata": {
        "id": "nl5M3KZi6vC5"
      },
      "source": [
        "from sklearn.model_selection import train_test_split\r\n",
        "\r\n",
        "x_train, x_test, y_train, y_test = train_test_split(x_padded, y_padded, test_size = 0.1)"
      ],
      "execution_count": 31,
      "outputs": []
    },
    {
      "cell_type": "code",
      "metadata": {
        "id": "bRSTosHC3_-0",
        "colab": {
          "base_uri": "https://localhost:8080/"
        },
        "outputId": "ad0c2d20-d6fe-4f35-c1f4-089ef74bde10"
      },
      "source": [
        "import numpy as np\r\n",
        "y_train = np.expand_dims(y_train, axis = 2)\r\n",
        "y_train.shape"
      ],
      "execution_count": 32,
      "outputs": [
        {
          "output_type": "execute_result",
          "data": {
            "text/plain": [
              "(67500, 47, 1)"
            ]
          },
          "metadata": {
            "tags": []
          },
          "execution_count": 32
        }
      ]
    },
    {
      "cell_type": "code",
      "metadata": {
        "id": "mSJfmg375Iyq",
        "colab": {
          "base_uri": "https://localhost:8080/"
        },
        "outputId": "c13a3cf9-38f8-4281-8acf-e7cee8804b97"
      },
      "source": [
        "history=model.fit(x_train, y_train, batch_size=64, validation_split= 0.1, epochs=10)"
      ],
      "execution_count": 33,
      "outputs": [
        {
          "output_type": "stream",
          "text": [
            "Epoch 1/10\n",
            "950/950 [==============================] - 496s 509ms/step - loss: 3.9208 - accuracy: 0.7399 - val_loss: 2.5847 - val_accuracy: 0.7406\n",
            "Epoch 2/10\n",
            "950/950 [==============================] - 478s 504ms/step - loss: 2.4850 - accuracy: 0.7467 - val_loss: 2.5501 - val_accuracy: 0.7430\n",
            "Epoch 3/10\n",
            "950/950 [==============================] - 478s 503ms/step - loss: 2.4294 - accuracy: 0.7478 - val_loss: 2.5098 - val_accuracy: 0.7432\n",
            "Epoch 4/10\n",
            "950/950 [==============================] - 478s 503ms/step - loss: 2.3647 - accuracy: 0.7485 - val_loss: 2.4735 - val_accuracy: 0.7437\n",
            "Epoch 5/10\n",
            "950/950 [==============================] - 478s 504ms/step - loss: 2.3074 - accuracy: 0.7491 - val_loss: 2.4303 - val_accuracy: 0.7441\n",
            "Epoch 6/10\n",
            "950/950 [==============================] - 478s 503ms/step - loss: 2.2393 - accuracy: 0.7495 - val_loss: 2.3830 - val_accuracy: 0.7446\n",
            "Epoch 7/10\n",
            "950/950 [==============================] - 477s 503ms/step - loss: 2.1560 - accuracy: 0.7519 - val_loss: 2.3554 - val_accuracy: 0.7447\n",
            "Epoch 8/10\n",
            "950/950 [==============================] - 479s 504ms/step - loss: 2.0994 - accuracy: 0.7522 - val_loss: 2.3254 - val_accuracy: 0.7458\n",
            "Epoch 9/10\n",
            "950/950 [==============================] - 478s 503ms/step - loss: 2.0433 - accuracy: 0.7525 - val_loss: 2.3023 - val_accuracy: 0.7461\n",
            "Epoch 10/10\n",
            "950/950 [==============================] - 478s 503ms/step - loss: 1.9857 - accuracy: 0.7534 - val_loss: 2.2820 - val_accuracy: 0.7460\n"
          ],
          "name": "stdout"
        }
      ]
    },
    {
      "cell_type": "code",
      "metadata": {
        "colab": {
          "base_uri": "https://localhost:8080/"
        },
        "id": "ZVrrSr2Zjq3G",
        "outputId": "bb3ec7a3-ef6c-4a54-e07c-6176c7092d58"
      },
      "source": [
        "y_test = np.expand_dims(y_test, axis = 2)\r\n",
        "y_test.shape"
      ],
      "execution_count": 34,
      "outputs": [
        {
          "output_type": "execute_result",
          "data": {
            "text/plain": [
              "(7500, 47, 1)"
            ]
          },
          "metadata": {
            "tags": []
          },
          "execution_count": 34
        }
      ]
    },
    {
      "cell_type": "code",
      "metadata": {
        "colab": {
          "base_uri": "https://localhost:8080/"
        },
        "id": "v37hLmm1jgO0",
        "outputId": "4ca3cb46-8bd9-4909-e0b0-6e1d88755858"
      },
      "source": [
        "model.evaluate(x_test, y_test, batch_size=32)"
      ],
      "execution_count": 35,
      "outputs": [
        {
          "output_type": "stream",
          "text": [
            "235/235 [==============================] - 61s 258ms/step - loss: 2.2293 - accuracy: 0.7522\n"
          ],
          "name": "stdout"
        },
        {
          "output_type": "execute_result",
          "data": {
            "text/plain": [
              "[2.229292392730713, 0.7522156238555908]"
            ]
          },
          "metadata": {
            "tags": []
          },
          "execution_count": 35
        }
      ]
    },
    {
      "cell_type": "code",
      "metadata": {
        "id": "sKJQeoNGGG-v"
      },
      "source": [
        "model.save(\"NMT2.h5\")"
      ],
      "execution_count": 36,
      "outputs": []
    },
    {
      "cell_type": "code",
      "metadata": {
        "colab": {
          "base_uri": "https://localhost:8080/",
          "height": 573
        },
        "id": "z4iikkscvMWA",
        "outputId": "bba569f3-0da9-4c5f-8a4d-9e4d62f31067"
      },
      "source": [
        "import matplotlib.pyplot as plt\r\n",
        "loss=history.history['loss']\r\n",
        "acc=history.history['accuracy']\r\n",
        "val_loss=history.history['val_loss']\r\n",
        "val_acc=history.history['val_accuracy']\r\n",
        "epochs=range(len(loss))\r\n",
        "plt.plot(epochs, loss, 'r')\r\n",
        "plt.plot(epochs, val_loss, 'y')\r\n",
        "plt.title('Training loss')\r\n",
        "plt.xlabel(\"Epochs\")\r\n",
        "plt.ylabel(\"Loss\")\r\n",
        "plt.legend([\"Loss\",\"val_Loss\"])\r\n",
        "plt.show()\r\n",
        "plt.plot(epochs, acc, 'b')\r\n",
        "plt.plot(epochs, val_acc, 'g')\r\n",
        "plt.title('Training loss')\r\n",
        "plt.xlabel(\"Epochs\")\r\n",
        "plt.ylabel(\"accuracy\")\r\n",
        "plt.legend([\"accuracy\",\"val_acc\"])\r\n",
        "plt.show()"
      ],
      "execution_count": 44,
      "outputs": [
        {
          "output_type": "display_data",
          "data": {
            "image/png": "[encoded data removed]",
            "text/plain": [
              "<Figure size 432x288 with 1 Axes>"
            ]
          },
          "metadata": {
            "tags": [],
            "needs_background": "light"
          }
        },
        {
          "output_type": "display_data",
          "data": {
            "image/png": "[encoded data removed]",
            "text/plain": [
              "<Figure size 432x288 with 1 Axes>"
            ]
          },
          "metadata": {
            "tags": [],
            "needs_background": "light"
          }
        }
      ]
    },
    {
      "cell_type": "code",
      "metadata": {
        "colab": {
          "base_uri": "https://localhost:8080/",
          "height": 34
        },
        "id": "U1O0lAFMCHOy",
        "outputId": "c45b061d-d1ba-4254-c586-5a47fcd778d4"
      },
      "source": [
        "from google.colab import files\r\n",
        "files.download('NMT2.h5')"
      ],
      "execution_count": 40,
      "outputs": [
        {
          "output_type": "display_data",
          "data": {
            "application/javascript": [
              "\n",
              "    async function download(id, filename, size) {\n",
              "      if (!google.colab.kernel.accessAllowed) {\n",
              "        return;\n",
              "      }\n",
              "      const div = document.createElement('div');\n",
              "      const label = document.createElement('label');\n",
              "      label.textContent = `Downloading \"${filename}\": `;\n",
              "      div.appendChild(label);\n",
              "      const progress = document.createElement('progress');\n",
              "      progress.max = size;\n",
              "      div.appendChild(progress);\n",
              "      document.body.appendChild(div);\n",
              "\n",
              "      const buffers = [];\n",
              "      let downloaded = 0;\n",
              "\n",
              "      const channel = await google.colab.kernel.comms.open(id);\n",
              "      // Send a message to notify the kernel that we're ready.\n",
              "      channel.send({})\n",
              "\n",
              "      for await (const message of channel.messages) {\n",
              "        // Send a message to notify the kernel that we're ready.\n",
              "        channel.send({})\n",
              "        if (message.buffers) {\n",
              "          for (const buffer of message.buffers) {\n",
              "            buffers.push(buffer);\n",
              "            downloaded += buffer.byteLength;\n",
              "            progress.value = downloaded;\n",
              "          }\n",
              "        }\n",
              "      }\n",
              "      const blob = new Blob(buffers, {type: 'application/binary'});\n",
              "      const a = document.createElement('a');\n",
              "      a.href = window.URL.createObjectURL(blob);\n",
              "      a.download = filename;\n",
              "      div.appendChild(a);\n",
              "      a.click();\n",
              "      div.remove();\n",
              "    }\n",
              "  "
            ],
            "text/plain": [
              "<IPython.core.display.Javascript object>"
            ]
          },
          "metadata": {
            "tags": []
          }
        },
        {
          "output_type": "display_data",
          "data": {
            "application/javascript": [
              "download(\"download_316d7938-017e-48db-87ab-8fe3a0c6936d\", \"NMT2.h5\", 250459832)"
            ],
            "text/plain": [
              "<IPython.core.display.Javascript object>"
            ]
          },
          "metadata": {
            "tags": []
          }
        }
      ]
    }
  ]
}