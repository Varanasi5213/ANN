{
  "nbformat": 4,
  "nbformat_minor": 0,
  "metadata": {
    "colab": {
      "name": "Cifar-10_CNN2.ipynb",
      "provenance": [],
      "collapsed_sections": []
    },
    "kernelspec": {
      "name": "python3",
      "display_name": "Python 3"
    }
  },
  "cells": [
    {
      "cell_type": "markdown",
      "metadata": {
        "id": "Ww0EJlSCmIwA"
      },
      "source": [
        "# Cifar-10"
      ]
    },
    {
      "cell_type": "code",
      "metadata": {
        "id": "Evdhgn3jbQgw"
      },
      "source": [
        "# Loading Libraries\n",
        "import torch \n",
        "import torch.nn as nn\n",
        "import torchvision\n",
        "import torchvision.transforms as transforms"
      ],
      "execution_count": null,
      "outputs": []
    },
    {
      "cell_type": "code",
      "metadata": {
        "id": "BfpjrERNh_lm"
      },
      "source": [
        "device = torch.device('cuda:0' if torch.cuda.is_available() else 'cpu')"
      ],
      "execution_count": null,
      "outputs": []
    },
    {
      "cell_type": "code",
      "metadata": {
        "colab": {
          "base_uri": "https://localhost:8080/"
        },
        "id": "hNzG3duHiEkJ",
        "outputId": "d2e855b6-2d03-4359-a180-024f644df5f6"
      },
      "source": [
        "# CIFAR dataset\n",
        "train_dataset = torchvision.datasets.CIFAR10(root='/data/',\n",
        "                                           train=True, \n",
        "                                           transform=transforms.ToTensor(),\n",
        "                                           download=True)\n",
        "\n",
        "test_dataset = torchvision.datasets.CIFAR10(root='/data/',\n",
        "                                          train=False, \n",
        "                                          transform=transforms.ToTensor())\n",
        "\n",
        "# Data loader\n",
        "batch_size = 64\n",
        "train_loader = torch.utils.data.DataLoader(dataset=train_dataset,\n",
        "                                           batch_size=batch_size, \n",
        "                                           shuffle=True)\n",
        "\n",
        "test_loader = torch.utils.data.DataLoader(dataset=test_dataset,\n",
        "                                          batch_size=batch_size, \n",
        "                                          shuffle=False)\n"
      ],
      "execution_count": null,
      "outputs": [
        {
          "output_type": "stream",
          "text": [
            "Files already downloaded and verified\n"
          ],
          "name": "stdout"
        }
      ]
    },
    {
      "cell_type": "code",
      "metadata": {
        "id": "Z_r7pdzViLIU"
      },
      "source": [
        "num_epochs = 5\n",
        "num_classes = 10\n",
        "learning_rate = 0.005"
      ],
      "execution_count": null,
      "outputs": []
    },
    {
      "cell_type": "markdown",
      "metadata": {
        "id": "WlSdzOUI8U5h"
      },
      "source": [
        "Model Architecture"
      ]
    },
    {
      "cell_type": "markdown",
      "metadata": {
        "id": "VCerZIvQEZmp"
      },
      "source": [
        "![cnn.png](data:image/png;base64,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)"
      ]
    },
    {
      "cell_type": "code",
      "metadata": {
        "id": "wHS_UenWiYLW"
      },
      "source": [
        "class ConvNet(nn.Module):\n",
        "    def __init__(self, num_classes=10):\n",
        "        super(ConvNet, self).__init__()\n",
        "        self.layer1 = nn.Sequential(\n",
        "            nn.Conv2d(3, 16, kernel_size=3, padding=2),\n",
        "            nn.BatchNorm2d(16),\n",
        "            nn.ReLU(),\n",
        "            nn.MaxPool2d(kernel_size=2, stride=2))\n",
        "        \n",
        "        self.layer2 = nn.Sequential(\n",
        "            nn.Conv2d(16, 32, kernel_size=5, padding=2),\n",
        "            nn.BatchNorm2d(32),\n",
        "            nn.ReLU(),\n",
        "            nn.MaxPool2d(kernel_size=2, stride=2))\n",
        "        \n",
        "        self.layer3 = nn.Sequential(\n",
        "            nn.Conv2d(32, 64, kernel_size=3, padding=2),\n",
        "            nn.BatchNorm2d(64),\n",
        "            nn.ReLU())\n",
        "            \n",
        "        \n",
        "        self.layer4 = nn.Sequential(\n",
        "            nn.Conv2d(32, 64, kernel_size=5, padding=3),\n",
        "            nn.BatchNorm2d(64),\n",
        "            nn.ReLU())\n",
        "            \n",
        "        \n",
        "        self.layer5 = nn.Sequential(\n",
        "            nn.Conv2d(128, 32, kernel_size=1, padding=3),\n",
        "            nn.BatchNorm2d(32),\n",
        "            nn.ReLU(),\n",
        "            nn.MaxPool2d(kernel_size=2, stride=2))\n",
        "        \n",
        "        self.fc1 = nn.Linear(8*8*32, 512)\n",
        "        self.fc2 = nn.Linear(512, num_classes)\n",
        "        \n",
        "    def forward(self, x):\n",
        "        out = self.layer1(x)\n",
        "        out = self.layer2(out)\n",
        "        out1 = self.layer3(out)\n",
        "        out2 = self.layer4(out)\n",
        "        out=torch.cat((out1, out2), 1)\n",
        "        out = self.layer5(out)\n",
        "        out = out.reshape(out.size(0), -1)\n",
        "        out = self.fc1(out)\n",
        "        out = self.fc2(out)\n",
        "        return out\n"
      ],
      "execution_count": null,
      "outputs": []
    },
    {
      "cell_type": "code",
      "metadata": {
        "id": "b9ECmdPbibdt"
      },
      "source": [
        "model = ConvNet(num_classes).to(device)"
      ],
      "execution_count": null,
      "outputs": []
    },
    {
      "cell_type": "code",
      "metadata": {
        "id": "cFJIFPijidQH"
      },
      "source": [
        "# Loss and optimizer\n",
        "criterion = nn.CrossEntropyLoss()\n",
        "optimizer = torch.optim.Adam(model.parameters(), lr=learning_rate)"
      ],
      "execution_count": null,
      "outputs": []
    },
    {
      "cell_type": "code",
      "metadata": {
        "colab": {
          "base_uri": "https://localhost:8080/"
        },
        "id": "_oxeMES6ijfv",
        "outputId": "cf78532b-74f3-411f-adfb-dfaa5a7881d7"
      },
      "source": [
        "Loss=[]\n",
        "total_step = len(train_loader)\n",
        "for epoch in range(num_epochs):\n",
        "    l=[]\n",
        "    for i, (images, labels) in enumerate(train_loader):\n",
        "        images = images.to(device)\n",
        "        labels = labels.to(device)\n",
        "        \n",
        "        # Forward pass\n",
        "        outputs = model(images)\n",
        "        loss = criterion(outputs, labels)\n",
        "        \n",
        "        # Backward and optimize\n",
        "        optimizer.zero_grad()\n",
        "        loss.backward()\n",
        "        optimizer.step()\n",
        "        l.append(loss.item())\n",
        "        if (i+1) % 100 == 0:\n",
        "            print ('Epoch [{}/{}], Step [{}/{}], Loss: {:.4f}'.format(epoch+1, num_epochs, i+1, total_step, loss.item()))\n",
        "    Loss.append(sum(l)/len(l))\n"
      ],
      "execution_count": null,
      "outputs": [
        {
          "output_type": "stream",
          "text": [
            "Epoch [1/5], Step [100/782], Loss: 2.0363\n",
            "Epoch [1/5], Step [200/782], Loss: 1.8304\n",
            "Epoch [1/5], Step [300/782], Loss: 1.8940\n",
            "Epoch [1/5], Step [400/782], Loss: 1.5159\n",
            "Epoch [1/5], Step [500/782], Loss: 1.3310\n",
            "Epoch [1/5], Step [600/782], Loss: 1.5055\n",
            "Epoch [1/5], Step [700/782], Loss: 1.4630\n",
            "Epoch [2/5], Step [100/782], Loss: 1.4416\n",
            "Epoch [2/5], Step [200/782], Loss: 1.0493\n",
            "Epoch [2/5], Step [300/782], Loss: 1.3094\n",
            "Epoch [2/5], Step [400/782], Loss: 1.2417\n",
            "Epoch [2/5], Step [500/782], Loss: 1.2518\n",
            "Epoch [2/5], Step [600/782], Loss: 1.0638\n",
            "Epoch [2/5], Step [700/782], Loss: 1.1404\n",
            "Epoch [3/5], Step [100/782], Loss: 1.3097\n",
            "Epoch [3/5], Step [200/782], Loss: 1.0717\n",
            "Epoch [3/5], Step [300/782], Loss: 0.8640\n",
            "Epoch [3/5], Step [400/782], Loss: 0.7884\n",
            "Epoch [3/5], Step [500/782], Loss: 0.7563\n",
            "Epoch [3/5], Step [600/782], Loss: 0.9651\n",
            "Epoch [3/5], Step [700/782], Loss: 0.9393\n",
            "Epoch [4/5], Step [100/782], Loss: 0.9597\n",
            "Epoch [4/5], Step [200/782], Loss: 0.7113\n",
            "Epoch [4/5], Step [300/782], Loss: 1.0493\n",
            "Epoch [4/5], Step [400/782], Loss: 0.6475\n",
            "Epoch [4/5], Step [500/782], Loss: 0.7392\n",
            "Epoch [4/5], Step [600/782], Loss: 0.7998\n",
            "Epoch [4/5], Step [700/782], Loss: 0.8769\n",
            "Epoch [5/5], Step [100/782], Loss: 0.5357\n",
            "Epoch [5/5], Step [200/782], Loss: 0.8258\n",
            "Epoch [5/5], Step [300/782], Loss: 0.5977\n",
            "Epoch [5/5], Step [400/782], Loss: 0.6018\n",
            "Epoch [5/5], Step [500/782], Loss: 0.6902\n",
            "Epoch [5/5], Step [600/782], Loss: 0.5629\n",
            "Epoch [5/5], Step [700/782], Loss: 0.8468\n"
          ],
          "name": "stdout"
        }
      ]
    },
    {
      "cell_type": "code",
      "metadata": {
        "id": "R6EKEih0izv2",
        "colab": {
          "base_uri": "https://localhost:8080/"
        },
        "outputId": "aabbdad6-d215-4236-aeca-7873055ea299"
      },
      "source": [
        "# Test the model\n",
        "model.eval()  \n",
        "with torch.no_grad():\n",
        "    correct = 0\n",
        "    total = 0\n",
        "    for images, labels in test_loader:\n",
        "        images = images.to(device)\n",
        "        labels = labels.to(device)\n",
        "        outputs = model(images)\n",
        "        _, predicted = torch.max(outputs.data, 1)\n",
        "        total += labels.size(0)\n",
        "        correct += (predicted == labels).sum().item()\n",
        "\n",
        "    print('Test Accuracy of the model on the 10000 test images: {} %'.format(100 * correct / total))\n"
      ],
      "execution_count": null,
      "outputs": [
        {
          "output_type": "stream",
          "text": [
            "Test Accuracy of the model on the 10000 test images: 69.15 %\n"
          ],
          "name": "stdout"
        }
      ]
    },
    {
      "cell_type": "code",
      "metadata": {
        "colab": {
          "base_uri": "https://localhost:8080/",
          "height": 298
        },
        "id": "8DkyteJ3mCY0",
        "outputId": "eacf7a7f-b185-4830-c9af-3a4c37c539fd"
      },
      "source": [
        "import matplotlib.pyplot as plt\n",
        "plt.plot(list(range(len(Loss))), Loss)\n",
        "plt.title(\"training curve\")"
      ],
      "execution_count": null,
      "outputs": [
        {
          "output_type": "execute_result",
          "data": {
            "text/plain": [
              "Text(0.5, 1.0, 'training curve')"
            ]
          },
          "metadata": {},
          "execution_count": 18
        },
        {
          "output_type": "display_data",
          "data": {
            "image/png": "[encoded data removed]",
            "text/plain": [
              "<Figure size 432x288 with 1 Axes>"
            ]
          },
          "metadata": {
            "needs_background": "light"
          }
        }
      ]
    },
    {
      "cell_type": "code",
      "metadata": {
        "id": "DKDrFEkLHAq0"
      },
      "source": [
        "torch.save(model.state_dict(), 'cifar-10.ckpt')"
      ],
      "execution_count": null,
      "outputs": []
    }
  ]
}