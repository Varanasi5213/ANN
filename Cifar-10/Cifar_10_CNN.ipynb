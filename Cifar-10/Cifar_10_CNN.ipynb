{
  "nbformat": 4,
  "nbformat_minor": 0,
  "metadata": {
    "colab": {
      "name": "Cifar-10_CNN.ipynb",
      "provenance": [],
      "collapsed_sections": []
    },
    "kernelspec": {
      "name": "python3",
      "display_name": "Python 3"
    },
    "accelerator": "GPU"
  },
  "cells": [
    {
      "cell_type": "markdown",
      "metadata": {
        "id": "Ww0EJlSCmIwA"
      },
      "source": [
        "# Cifar-10"
      ]
    },
    {
      "cell_type": "code",
      "metadata": {
        "id": "Evdhgn3jbQgw"
      },
      "source": [
        "# Loading Libraries\n",
        "import torch \n",
        "import torch.nn as nn\n",
        "import torchvision\n",
        "import torchvision.transforms as transforms"
      ],
      "execution_count": 1,
      "outputs": []
    },
    {
      "cell_type": "code",
      "metadata": {
        "id": "BfpjrERNh_lm"
      },
      "source": [
        "device = torch.device('cuda:0' if torch.cuda.is_available() else 'cpu')"
      ],
      "execution_count": 2,
      "outputs": []
    },
    {
      "cell_type": "code",
      "metadata": {
        "colab": {
          "base_uri": "https://localhost:8080/"
        },
        "id": "hNzG3duHiEkJ",
        "outputId": "96c1f157-00b0-4035-a346-33d3128a398f"
      },
      "source": [
        "# CIFAR dataset\n",
        "train_dataset = torchvision.datasets.CIFAR10(root='/data/',\n",
        "                                           train=True, \n",
        "                                           transform=transforms.ToTensor(),\n",
        "                                           download=True)\n",
        "\n",
        "test_dataset = torchvision.datasets.CIFAR10(root='/data/',\n",
        "                                          train=False, \n",
        "                                          transform=transforms.ToTensor())\n",
        "\n",
        "# Data loader\n",
        "batch_size = 100\n",
        "train_loader = torch.utils.data.DataLoader(dataset=train_dataset,\n",
        "                                           batch_size=batch_size, \n",
        "                                           shuffle=True)\n",
        "\n",
        "test_loader = torch.utils.data.DataLoader(dataset=test_dataset,\n",
        "                                          batch_size=batch_size, \n",
        "                                          shuffle=False)\n"
      ],
      "execution_count": 3,
      "outputs": [
        {
          "output_type": "stream",
          "text": [
            "Files already downloaded and verified\n"
          ],
          "name": "stdout"
        }
      ]
    },
    {
      "cell_type": "code",
      "metadata": {
        "id": "Z_r7pdzViLIU"
      },
      "source": [
        "num_epochs = 5\n",
        "num_classes = 10\n",
        "learning_rate = 0.001"
      ],
      "execution_count": 4,
      "outputs": []
    },
    {
      "cell_type": "code",
      "metadata": {
        "id": "wHS_UenWiYLW"
      },
      "source": [
        "class ConvNet(nn.Module):\n",
        "    def __init__(self, num_classes=10):\n",
        "        super(ConvNet, self).__init__()\n",
        "        self.layer1 = nn.Sequential(\n",
        "            nn.Conv2d(3, 16, kernel_size=5, stride=1, padding=2),\n",
        "            nn.BatchNorm2d(16),\n",
        "            nn.ReLU(),\n",
        "            nn.MaxPool2d(kernel_size=2, stride=2))\n",
        "        self.layer2 = nn.Sequential(\n",
        "            nn.Conv2d(16, 32, kernel_size=5, stride=1, padding=2),\n",
        "            nn.BatchNorm2d(32),\n",
        "            nn.ReLU(),\n",
        "            nn.MaxPool2d(kernel_size=2, stride=2))\n",
        "        self.fc = nn.Linear(8*8*32, num_classes)\n",
        "        \n",
        "    def forward(self, x):\n",
        "        out = self.layer1(x)\n",
        "        out = self.layer2(out)\n",
        "        out = out.reshape(out.size(0), -1)\n",
        "        out = self.fc(out)\n",
        "        return out\n"
      ],
      "execution_count": 5,
      "outputs": []
    },
    {
      "cell_type": "code",
      "metadata": {
        "id": "b9ECmdPbibdt"
      },
      "source": [
        "model = ConvNet(num_classes).to(device)"
      ],
      "execution_count": 6,
      "outputs": []
    },
    {
      "cell_type": "code",
      "metadata": {
        "id": "cFJIFPijidQH"
      },
      "source": [
        "# Loss and optimizer\n",
        "criterion = nn.CrossEntropyLoss()\n",
        "optimizer = torch.optim.Adam(model.parameters(), lr=learning_rate)"
      ],
      "execution_count": 7,
      "outputs": []
    },
    {
      "cell_type": "code",
      "metadata": {
        "colab": {
          "base_uri": "https://localhost:8080/"
        },
        "id": "_oxeMES6ijfv",
        "outputId": "7dd7809d-f607-44d5-a241-c5eb1d4f2431"
      },
      "source": [
        "total_step = len(train_loader)\n",
        "Loss=[]\n",
        "for epoch in range(num_epochs):\n",
        "    l=[]\n",
        "    for i, (images, labels) in enumerate(train_loader):\n",
        "        images = images.to(device)\n",
        "        labels = labels.to(device)\n",
        "        \n",
        "        # Forward pass\n",
        "        outputs = model(images)\n",
        "        loss = criterion(outputs, labels)\n",
        "        \n",
        "        # Backward and optimize\n",
        "        optimizer.zero_grad()\n",
        "        loss.backward()\n",
        "        optimizer.step()\n",
        "        l.append(loss.item())\n",
        "        if (i+1) % 100 == 0:\n",
        "            print ('Epoch [{}/{}], Step [{}/{}], Loss: {:.4f}' \n",
        "                   .format(epoch+1, num_epochs, i+1, total_step, loss.item()))\n",
        "    Loss.append(sum(l)/len(l))"
      ],
      "execution_count": 8,
      "outputs": [
        {
          "output_type": "stream",
          "text": [
            "/usr/local/lib/python3.7/dist-packages/torch/nn/functional.py:718: UserWarning: Named tensors and all their associated APIs are an experimental feature and subject to change. Please do not use them for anything important until they are released as stable. (Triggered internally at  /pytorch/c10/core/TensorImpl.h:1156.)\n",
            "  return torch.max_pool2d(input, kernel_size, stride, padding, dilation, ceil_mode)\n"
          ],
          "name": "stderr"
        },
        {
          "output_type": "stream",
          "text": [
            "Epoch [1/5], Step [100/500], Loss: 1.5747\n",
            "Epoch [1/5], Step [200/500], Loss: 1.3245\n",
            "Epoch [1/5], Step [300/500], Loss: 1.2101\n",
            "Epoch [1/5], Step [400/500], Loss: 1.2712\n",
            "Epoch [1/5], Step [500/500], Loss: 1.1287\n",
            "Epoch [2/5], Step [100/500], Loss: 0.9771\n",
            "Epoch [2/5], Step [200/500], Loss: 1.2176\n",
            "Epoch [2/5], Step [300/500], Loss: 1.0089\n",
            "Epoch [2/5], Step [400/500], Loss: 0.9954\n",
            "Epoch [2/5], Step [500/500], Loss: 0.9614\n",
            "Epoch [3/5], Step [100/500], Loss: 0.9289\n",
            "Epoch [3/5], Step [200/500], Loss: 1.1601\n",
            "Epoch [3/5], Step [300/500], Loss: 0.8591\n",
            "Epoch [3/5], Step [400/500], Loss: 0.9239\n",
            "Epoch [3/5], Step [500/500], Loss: 1.1919\n",
            "Epoch [4/5], Step [100/500], Loss: 0.8644\n",
            "Epoch [4/5], Step [200/500], Loss: 0.7837\n",
            "Epoch [4/5], Step [300/500], Loss: 0.8273\n",
            "Epoch [4/5], Step [400/500], Loss: 1.0010\n",
            "Epoch [4/5], Step [500/500], Loss: 0.6978\n",
            "Epoch [5/5], Step [100/500], Loss: 0.8099\n",
            "Epoch [5/5], Step [200/500], Loss: 0.8157\n",
            "Epoch [5/5], Step [300/500], Loss: 0.6743\n",
            "Epoch [5/5], Step [400/500], Loss: 0.7717\n",
            "Epoch [5/5], Step [500/500], Loss: 0.8120\n"
          ],
          "name": "stdout"
        }
      ]
    },
    {
      "cell_type": "code",
      "metadata": {
        "colab": {
          "base_uri": "https://localhost:8080/"
        },
        "id": "R6EKEih0izv2",
        "outputId": "9f60268a-15a5-41eb-a6fc-b4d687e57db1"
      },
      "source": [
        "# Test the model\n",
        "model.eval()  # eval mode (batchnorm uses moving mean/variance instead of mini-batch mean/variance)\n",
        "with torch.no_grad():\n",
        "    correct = 0\n",
        "    total = 0\n",
        "    for images, labels in test_loader:\n",
        "        images = images.to(device)\n",
        "        labels = labels.to(device)\n",
        "        outputs = model(images)\n",
        "        _, predicted = torch.max(outputs.data, 1)\n",
        "        total += labels.size(0)\n",
        "        correct += (predicted == labels).sum().item()\n",
        "\n",
        "    print('Test Accuracy of the model on the 10000 test images: {} %'.format(100 * correct / total))\n"
      ],
      "execution_count": 9,
      "outputs": [
        {
          "output_type": "stream",
          "text": [
            "Test Accuracy of the model on the 10000 test images: 62.44 %\n"
          ],
          "name": "stdout"
        }
      ]
    },
    {
      "cell_type": "code",
      "metadata": {
        "colab": {
          "base_uri": "https://localhost:8080/",
          "height": 298
        },
        "id": "_igoXSrU96Q9",
        "outputId": "e45a374e-95bb-4ada-ad29-69c16924cc38"
      },
      "source": [
        "import matplotlib.pyplot as plt\n",
        "plt.plot(list(range(len(Loss))), Loss)\n",
        "plt.title(\"training curve\")"
      ],
      "execution_count": 10,
      "outputs": [
        {
          "output_type": "execute_result",
          "data": {
            "text/plain": [
              "Text(0.5, 1.0, 'training curve')"
            ]
          },
          "metadata": {},
          "execution_count": 10
        },
        {
          "output_type": "display_data",
          "data": {
            "image/png": "[encoded data removed]",
            "text/plain": [
              "<Figure size 432x288 with 1 Axes>"
            ]
          },
          "metadata": {
            "needs_background": "light"
          }
        }
      ]
    },
    {
      "cell_type": "code",
      "metadata": {
        "id": "UX-vKF8jkYBi"
      },
      "source": [
        "torch.save(model.state_dict(), 'cifar-10.ckpt')"
      ],
      "execution_count": 11,
      "outputs": []
    }
  ]
}